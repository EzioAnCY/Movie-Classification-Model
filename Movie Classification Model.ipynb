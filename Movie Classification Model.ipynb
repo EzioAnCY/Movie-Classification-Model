{
 "cells": [
  {
   "cell_type": "code",
   "execution_count": 49,
   "metadata": {},
   "outputs": [],
   "source": [
    "import pandas as pd\n",
    "import numpy as np\n",
    "import seaborn as sns\n",
    "import matplotlib.pyplot as plt \n",
    "from sklearn.cross_validation import train_test_split\n",
    "from sklearn.model_selection import KFold\n",
    "from keras.utils import to_categorical\n",
    "import random"
   ]
  },
  {
   "cell_type": "code",
   "execution_count": 2,
   "metadata": {},
   "outputs": [],
   "source": [
    "train_data = pd.read_excel(\"/Users/changyuean/Desktop/Quantiphi Case Study/Training sheet.xlsx\")"
   ]
  },
  {
   "cell_type": "code",
   "execution_count": 3,
   "metadata": {},
   "outputs": [
    {
     "data": {
      "text/html": [
       "<div>\n",
       "<style scoped>\n",
       "    .dataframe tbody tr th:only-of-type {\n",
       "        vertical-align: middle;\n",
       "    }\n",
       "\n",
       "    .dataframe tbody tr th {\n",
       "        vertical-align: top;\n",
       "    }\n",
       "\n",
       "    .dataframe thead th {\n",
       "        text-align: right;\n",
       "    }\n",
       "</style>\n",
       "<table border=\"1\" class=\"dataframe\">\n",
       "  <thead>\n",
       "    <tr style=\"text-align: right;\">\n",
       "      <th></th>\n",
       "      <th>id</th>\n",
       "      <th>name</th>\n",
       "      <th>display_name</th>\n",
       "      <th>production_year</th>\n",
       "      <th>movie_sequel</th>\n",
       "      <th>creative_type</th>\n",
       "      <th>source</th>\n",
       "      <th>production_method</th>\n",
       "      <th>genre</th>\n",
       "      <th>language</th>\n",
       "      <th>board_rating_reason</th>\n",
       "      <th>movie_board_rating_display_name</th>\n",
       "      <th>movie_release_pattern_display_name</th>\n",
       "      <th>total</th>\n",
       "      <th>Category</th>\n",
       "    </tr>\n",
       "  </thead>\n",
       "  <tbody>\n",
       "    <tr>\n",
       "      <th>0</th>\n",
       "      <td>7950115</td>\n",
       "      <td>Avatar</td>\n",
       "      <td>Avatar</td>\n",
       "      <td>2009</td>\n",
       "      <td>0</td>\n",
       "      <td>Science Fiction</td>\n",
       "      <td>Original Screenplay</td>\n",
       "      <td>Animation/Live Action</td>\n",
       "      <td>Action</td>\n",
       "      <td>English</td>\n",
       "      <td>For intense epic battle sequences and warfare,...</td>\n",
       "      <td>PG-13</td>\n",
       "      <td>Wide</td>\n",
       "      <td>2784</td>\n",
       "      <td>9</td>\n",
       "    </tr>\n",
       "    <tr>\n",
       "      <th>1</th>\n",
       "      <td>50950115</td>\n",
       "      <td>Harry Potter and the Deathly Hallows: Part II</td>\n",
       "      <td>Harry Potter and the Deathly Hallows: Part II</td>\n",
       "      <td>2011</td>\n",
       "      <td>1</td>\n",
       "      <td>Fantasy</td>\n",
       "      <td>Based on Fiction Book/Short Story</td>\n",
       "      <td>Animation/Live Action</td>\n",
       "      <td>Adventure</td>\n",
       "      <td>English</td>\n",
       "      <td>for some sequences of intense action violence ...</td>\n",
       "      <td>PG-13</td>\n",
       "      <td>Wide</td>\n",
       "      <td>1328</td>\n",
       "      <td>9</td>\n",
       "    </tr>\n",
       "    <tr>\n",
       "      <th>2</th>\n",
       "      <td>119870115</td>\n",
       "      <td>Transformers 3</td>\n",
       "      <td>Transformers: Dark of the Moon</td>\n",
       "      <td>2011</td>\n",
       "      <td>1</td>\n",
       "      <td>Science Fiction</td>\n",
       "      <td>Based on TV</td>\n",
       "      <td>Animation/Live Action</td>\n",
       "      <td>Action</td>\n",
       "      <td>English</td>\n",
       "      <td>for intense prolonged sequences of sci-fi acti...</td>\n",
       "      <td>PG-13</td>\n",
       "      <td>Wide</td>\n",
       "      <td>1124</td>\n",
       "      <td>9</td>\n",
       "    </tr>\n",
       "    <tr>\n",
       "      <th>3</th>\n",
       "      <td>119590115</td>\n",
       "      <td>Toy Story 3</td>\n",
       "      <td>Toy Story 3</td>\n",
       "      <td>2010</td>\n",
       "      <td>1</td>\n",
       "      <td>Kids Fiction</td>\n",
       "      <td>Original Screenplay</td>\n",
       "      <td>Digital Animation</td>\n",
       "      <td>Adventure</td>\n",
       "      <td>English</td>\n",
       "      <td>General</td>\n",
       "      <td>G</td>\n",
       "      <td>Wide</td>\n",
       "      <td>1064</td>\n",
       "      <td>9</td>\n",
       "    </tr>\n",
       "    <tr>\n",
       "      <th>4</th>\n",
       "      <td>91700115</td>\n",
       "      <td>Pirates of the Caribbean 4</td>\n",
       "      <td>Pirates of the Caribbean: On Stranger Tides</td>\n",
       "      <td>2011</td>\n",
       "      <td>1</td>\n",
       "      <td>Fantasy</td>\n",
       "      <td>Based on Theme Park Ride</td>\n",
       "      <td>Live Action</td>\n",
       "      <td>Adventure</td>\n",
       "      <td>English</td>\n",
       "      <td>for intense sequences of action/adventure viol...</td>\n",
       "      <td>PG-13</td>\n",
       "      <td>Wide</td>\n",
       "      <td>1044</td>\n",
       "      <td>9</td>\n",
       "    </tr>\n",
       "  </tbody>\n",
       "</table>\n",
       "</div>"
      ],
      "text/plain": [
       "          id                                           name  \\\n",
       "0    7950115                                         Avatar   \n",
       "1   50950115  Harry Potter and the Deathly Hallows: Part II   \n",
       "2  119870115                                 Transformers 3   \n",
       "3  119590115                                    Toy Story 3   \n",
       "4   91700115                     Pirates of the Caribbean 4   \n",
       "\n",
       "                                    display_name  production_year  \\\n",
       "0                                         Avatar             2009   \n",
       "1  Harry Potter and the Deathly Hallows: Part II             2011   \n",
       "2                 Transformers: Dark of the Moon             2011   \n",
       "3                                    Toy Story 3             2010   \n",
       "4    Pirates of the Caribbean: On Stranger Tides             2011   \n",
       "\n",
       "   movie_sequel    creative_type                             source  \\\n",
       "0             0  Science Fiction                Original Screenplay   \n",
       "1             1          Fantasy  Based on Fiction Book/Short Story   \n",
       "2             1  Science Fiction                        Based on TV   \n",
       "3             1     Kids Fiction                Original Screenplay   \n",
       "4             1          Fantasy           Based on Theme Park Ride   \n",
       "\n",
       "       production_method      genre language  \\\n",
       "0  Animation/Live Action     Action  English   \n",
       "1  Animation/Live Action  Adventure  English   \n",
       "2  Animation/Live Action     Action  English   \n",
       "3      Digital Animation  Adventure  English   \n",
       "4            Live Action  Adventure  English   \n",
       "\n",
       "                                 board_rating_reason  \\\n",
       "0  For intense epic battle sequences and warfare,...   \n",
       "1  for some sequences of intense action violence ...   \n",
       "2  for intense prolonged sequences of sci-fi acti...   \n",
       "3                                            General   \n",
       "4  for intense sequences of action/adventure viol...   \n",
       "\n",
       "  movie_board_rating_display_name movie_release_pattern_display_name  total  \\\n",
       "0                           PG-13                               Wide   2784   \n",
       "1                           PG-13                               Wide   1328   \n",
       "2                           PG-13                               Wide   1124   \n",
       "3                               G                               Wide   1064   \n",
       "4                           PG-13                               Wide   1044   \n",
       "\n",
       "   Category  \n",
       "0         9  \n",
       "1         9  \n",
       "2         9  \n",
       "3         9  \n",
       "4         9  "
      ]
     },
     "execution_count": 3,
     "metadata": {},
     "output_type": "execute_result"
    }
   ],
   "source": [
    "train_data.head()"
   ]
  },
  {
   "cell_type": "markdown",
   "metadata": {},
   "source": [
    "Since id is not useful in the classification task, so I will delete id first"
   ]
  },
  {
   "cell_type": "code",
   "execution_count": 4,
   "metadata": {},
   "outputs": [],
   "source": [
    "train_data = train_data.drop(['id'],axis=1)"
   ]
  },
  {
   "cell_type": "code",
   "execution_count": 5,
   "metadata": {},
   "outputs": [
    {
     "data": {
      "text/html": [
       "<div>\n",
       "<style scoped>\n",
       "    .dataframe tbody tr th:only-of-type {\n",
       "        vertical-align: middle;\n",
       "    }\n",
       "\n",
       "    .dataframe tbody tr th {\n",
       "        vertical-align: top;\n",
       "    }\n",
       "\n",
       "    .dataframe thead th {\n",
       "        text-align: right;\n",
       "    }\n",
       "</style>\n",
       "<table border=\"1\" class=\"dataframe\">\n",
       "  <thead>\n",
       "    <tr style=\"text-align: right;\">\n",
       "      <th></th>\n",
       "      <th>name</th>\n",
       "      <th>display_name</th>\n",
       "      <th>production_year</th>\n",
       "      <th>movie_sequel</th>\n",
       "      <th>creative_type</th>\n",
       "      <th>source</th>\n",
       "      <th>production_method</th>\n",
       "      <th>genre</th>\n",
       "      <th>language</th>\n",
       "      <th>board_rating_reason</th>\n",
       "      <th>movie_board_rating_display_name</th>\n",
       "      <th>movie_release_pattern_display_name</th>\n",
       "      <th>total</th>\n",
       "      <th>Category</th>\n",
       "    </tr>\n",
       "  </thead>\n",
       "  <tbody>\n",
       "    <tr>\n",
       "      <th>0</th>\n",
       "      <td>Avatar</td>\n",
       "      <td>Avatar</td>\n",
       "      <td>2009</td>\n",
       "      <td>0</td>\n",
       "      <td>Science Fiction</td>\n",
       "      <td>Original Screenplay</td>\n",
       "      <td>Animation/Live Action</td>\n",
       "      <td>Action</td>\n",
       "      <td>English</td>\n",
       "      <td>For intense epic battle sequences and warfare,...</td>\n",
       "      <td>PG-13</td>\n",
       "      <td>Wide</td>\n",
       "      <td>2784</td>\n",
       "      <td>9</td>\n",
       "    </tr>\n",
       "    <tr>\n",
       "      <th>1</th>\n",
       "      <td>Harry Potter and the Deathly Hallows: Part II</td>\n",
       "      <td>Harry Potter and the Deathly Hallows: Part II</td>\n",
       "      <td>2011</td>\n",
       "      <td>1</td>\n",
       "      <td>Fantasy</td>\n",
       "      <td>Based on Fiction Book/Short Story</td>\n",
       "      <td>Animation/Live Action</td>\n",
       "      <td>Adventure</td>\n",
       "      <td>English</td>\n",
       "      <td>for some sequences of intense action violence ...</td>\n",
       "      <td>PG-13</td>\n",
       "      <td>Wide</td>\n",
       "      <td>1328</td>\n",
       "      <td>9</td>\n",
       "    </tr>\n",
       "    <tr>\n",
       "      <th>2</th>\n",
       "      <td>Transformers 3</td>\n",
       "      <td>Transformers: Dark of the Moon</td>\n",
       "      <td>2011</td>\n",
       "      <td>1</td>\n",
       "      <td>Science Fiction</td>\n",
       "      <td>Based on TV</td>\n",
       "      <td>Animation/Live Action</td>\n",
       "      <td>Action</td>\n",
       "      <td>English</td>\n",
       "      <td>for intense prolonged sequences of sci-fi acti...</td>\n",
       "      <td>PG-13</td>\n",
       "      <td>Wide</td>\n",
       "      <td>1124</td>\n",
       "      <td>9</td>\n",
       "    </tr>\n",
       "    <tr>\n",
       "      <th>3</th>\n",
       "      <td>Toy Story 3</td>\n",
       "      <td>Toy Story 3</td>\n",
       "      <td>2010</td>\n",
       "      <td>1</td>\n",
       "      <td>Kids Fiction</td>\n",
       "      <td>Original Screenplay</td>\n",
       "      <td>Digital Animation</td>\n",
       "      <td>Adventure</td>\n",
       "      <td>English</td>\n",
       "      <td>General</td>\n",
       "      <td>G</td>\n",
       "      <td>Wide</td>\n",
       "      <td>1064</td>\n",
       "      <td>9</td>\n",
       "    </tr>\n",
       "    <tr>\n",
       "      <th>4</th>\n",
       "      <td>Pirates of the Caribbean 4</td>\n",
       "      <td>Pirates of the Caribbean: On Stranger Tides</td>\n",
       "      <td>2011</td>\n",
       "      <td>1</td>\n",
       "      <td>Fantasy</td>\n",
       "      <td>Based on Theme Park Ride</td>\n",
       "      <td>Live Action</td>\n",
       "      <td>Adventure</td>\n",
       "      <td>English</td>\n",
       "      <td>for intense sequences of action/adventure viol...</td>\n",
       "      <td>PG-13</td>\n",
       "      <td>Wide</td>\n",
       "      <td>1044</td>\n",
       "      <td>9</td>\n",
       "    </tr>\n",
       "  </tbody>\n",
       "</table>\n",
       "</div>"
      ],
      "text/plain": [
       "                                            name  \\\n",
       "0                                         Avatar   \n",
       "1  Harry Potter and the Deathly Hallows: Part II   \n",
       "2                                 Transformers 3   \n",
       "3                                    Toy Story 3   \n",
       "4                     Pirates of the Caribbean 4   \n",
       "\n",
       "                                    display_name  production_year  \\\n",
       "0                                         Avatar             2009   \n",
       "1  Harry Potter and the Deathly Hallows: Part II             2011   \n",
       "2                 Transformers: Dark of the Moon             2011   \n",
       "3                                    Toy Story 3             2010   \n",
       "4    Pirates of the Caribbean: On Stranger Tides             2011   \n",
       "\n",
       "   movie_sequel    creative_type                             source  \\\n",
       "0             0  Science Fiction                Original Screenplay   \n",
       "1             1          Fantasy  Based on Fiction Book/Short Story   \n",
       "2             1  Science Fiction                        Based on TV   \n",
       "3             1     Kids Fiction                Original Screenplay   \n",
       "4             1          Fantasy           Based on Theme Park Ride   \n",
       "\n",
       "       production_method      genre language  \\\n",
       "0  Animation/Live Action     Action  English   \n",
       "1  Animation/Live Action  Adventure  English   \n",
       "2  Animation/Live Action     Action  English   \n",
       "3      Digital Animation  Adventure  English   \n",
       "4            Live Action  Adventure  English   \n",
       "\n",
       "                                 board_rating_reason  \\\n",
       "0  For intense epic battle sequences and warfare,...   \n",
       "1  for some sequences of intense action violence ...   \n",
       "2  for intense prolonged sequences of sci-fi acti...   \n",
       "3                                            General   \n",
       "4  for intense sequences of action/adventure viol...   \n",
       "\n",
       "  movie_board_rating_display_name movie_release_pattern_display_name  total  \\\n",
       "0                           PG-13                               Wide   2784   \n",
       "1                           PG-13                               Wide   1328   \n",
       "2                           PG-13                               Wide   1124   \n",
       "3                               G                               Wide   1064   \n",
       "4                           PG-13                               Wide   1044   \n",
       "\n",
       "   Category  \n",
       "0         9  \n",
       "1         9  \n",
       "2         9  \n",
       "3         9  \n",
       "4         9  "
      ]
     },
     "execution_count": 5,
     "metadata": {},
     "output_type": "execute_result"
    }
   ],
   "source": [
    "train_data.head()"
   ]
  },
  {
   "cell_type": "code",
   "execution_count": 6,
   "metadata": {},
   "outputs": [
    {
     "data": {
      "text/plain": [
       "0.8054966083826666"
      ]
     },
     "execution_count": 6,
     "metadata": {},
     "output_type": "execute_result"
    }
   ],
   "source": [
    "# since the 'total' column is highly correlated with Category and it doesn't exit in the test dataset, \n",
    "# so I will drop it.\n",
    "train_data['total'].corr(train_data['Category'])"
   ]
  },
  {
   "cell_type": "code",
   "execution_count": 7,
   "metadata": {},
   "outputs": [],
   "source": [
    "train_data = train_data.drop(['total'],axis=1)"
   ]
  },
  {
   "cell_type": "code",
   "execution_count": 8,
   "metadata": {},
   "outputs": [
    {
     "data": {
      "text/html": [
       "<div>\n",
       "<style scoped>\n",
       "    .dataframe tbody tr th:only-of-type {\n",
       "        vertical-align: middle;\n",
       "    }\n",
       "\n",
       "    .dataframe tbody tr th {\n",
       "        vertical-align: top;\n",
       "    }\n",
       "\n",
       "    .dataframe thead th {\n",
       "        text-align: right;\n",
       "    }\n",
       "</style>\n",
       "<table border=\"1\" class=\"dataframe\">\n",
       "  <thead>\n",
       "    <tr style=\"text-align: right;\">\n",
       "      <th></th>\n",
       "      <th>name</th>\n",
       "      <th>display_name</th>\n",
       "      <th>production_year</th>\n",
       "      <th>movie_sequel</th>\n",
       "      <th>creative_type</th>\n",
       "      <th>source</th>\n",
       "      <th>production_method</th>\n",
       "      <th>genre</th>\n",
       "      <th>language</th>\n",
       "      <th>board_rating_reason</th>\n",
       "      <th>movie_board_rating_display_name</th>\n",
       "      <th>movie_release_pattern_display_name</th>\n",
       "      <th>Category</th>\n",
       "    </tr>\n",
       "  </thead>\n",
       "  <tbody>\n",
       "    <tr>\n",
       "      <th>0</th>\n",
       "      <td>Avatar</td>\n",
       "      <td>Avatar</td>\n",
       "      <td>2009</td>\n",
       "      <td>0</td>\n",
       "      <td>Science Fiction</td>\n",
       "      <td>Original Screenplay</td>\n",
       "      <td>Animation/Live Action</td>\n",
       "      <td>Action</td>\n",
       "      <td>English</td>\n",
       "      <td>For intense epic battle sequences and warfare,...</td>\n",
       "      <td>PG-13</td>\n",
       "      <td>Wide</td>\n",
       "      <td>9</td>\n",
       "    </tr>\n",
       "    <tr>\n",
       "      <th>1</th>\n",
       "      <td>Harry Potter and the Deathly Hallows: Part II</td>\n",
       "      <td>Harry Potter and the Deathly Hallows: Part II</td>\n",
       "      <td>2011</td>\n",
       "      <td>1</td>\n",
       "      <td>Fantasy</td>\n",
       "      <td>Based on Fiction Book/Short Story</td>\n",
       "      <td>Animation/Live Action</td>\n",
       "      <td>Adventure</td>\n",
       "      <td>English</td>\n",
       "      <td>for some sequences of intense action violence ...</td>\n",
       "      <td>PG-13</td>\n",
       "      <td>Wide</td>\n",
       "      <td>9</td>\n",
       "    </tr>\n",
       "    <tr>\n",
       "      <th>2</th>\n",
       "      <td>Transformers 3</td>\n",
       "      <td>Transformers: Dark of the Moon</td>\n",
       "      <td>2011</td>\n",
       "      <td>1</td>\n",
       "      <td>Science Fiction</td>\n",
       "      <td>Based on TV</td>\n",
       "      <td>Animation/Live Action</td>\n",
       "      <td>Action</td>\n",
       "      <td>English</td>\n",
       "      <td>for intense prolonged sequences of sci-fi acti...</td>\n",
       "      <td>PG-13</td>\n",
       "      <td>Wide</td>\n",
       "      <td>9</td>\n",
       "    </tr>\n",
       "    <tr>\n",
       "      <th>3</th>\n",
       "      <td>Toy Story 3</td>\n",
       "      <td>Toy Story 3</td>\n",
       "      <td>2010</td>\n",
       "      <td>1</td>\n",
       "      <td>Kids Fiction</td>\n",
       "      <td>Original Screenplay</td>\n",
       "      <td>Digital Animation</td>\n",
       "      <td>Adventure</td>\n",
       "      <td>English</td>\n",
       "      <td>General</td>\n",
       "      <td>G</td>\n",
       "      <td>Wide</td>\n",
       "      <td>9</td>\n",
       "    </tr>\n",
       "    <tr>\n",
       "      <th>4</th>\n",
       "      <td>Pirates of the Caribbean 4</td>\n",
       "      <td>Pirates of the Caribbean: On Stranger Tides</td>\n",
       "      <td>2011</td>\n",
       "      <td>1</td>\n",
       "      <td>Fantasy</td>\n",
       "      <td>Based on Theme Park Ride</td>\n",
       "      <td>Live Action</td>\n",
       "      <td>Adventure</td>\n",
       "      <td>English</td>\n",
       "      <td>for intense sequences of action/adventure viol...</td>\n",
       "      <td>PG-13</td>\n",
       "      <td>Wide</td>\n",
       "      <td>9</td>\n",
       "    </tr>\n",
       "  </tbody>\n",
       "</table>\n",
       "</div>"
      ],
      "text/plain": [
       "                                            name  \\\n",
       "0                                         Avatar   \n",
       "1  Harry Potter and the Deathly Hallows: Part II   \n",
       "2                                 Transformers 3   \n",
       "3                                    Toy Story 3   \n",
       "4                     Pirates of the Caribbean 4   \n",
       "\n",
       "                                    display_name  production_year  \\\n",
       "0                                         Avatar             2009   \n",
       "1  Harry Potter and the Deathly Hallows: Part II             2011   \n",
       "2                 Transformers: Dark of the Moon             2011   \n",
       "3                                    Toy Story 3             2010   \n",
       "4    Pirates of the Caribbean: On Stranger Tides             2011   \n",
       "\n",
       "   movie_sequel    creative_type                             source  \\\n",
       "0             0  Science Fiction                Original Screenplay   \n",
       "1             1          Fantasy  Based on Fiction Book/Short Story   \n",
       "2             1  Science Fiction                        Based on TV   \n",
       "3             1     Kids Fiction                Original Screenplay   \n",
       "4             1          Fantasy           Based on Theme Park Ride   \n",
       "\n",
       "       production_method      genre language  \\\n",
       "0  Animation/Live Action     Action  English   \n",
       "1  Animation/Live Action  Adventure  English   \n",
       "2  Animation/Live Action     Action  English   \n",
       "3      Digital Animation  Adventure  English   \n",
       "4            Live Action  Adventure  English   \n",
       "\n",
       "                                 board_rating_reason  \\\n",
       "0  For intense epic battle sequences and warfare,...   \n",
       "1  for some sequences of intense action violence ...   \n",
       "2  for intense prolonged sequences of sci-fi acti...   \n",
       "3                                            General   \n",
       "4  for intense sequences of action/adventure viol...   \n",
       "\n",
       "  movie_board_rating_display_name movie_release_pattern_display_name  Category  \n",
       "0                           PG-13                               Wide         9  \n",
       "1                           PG-13                               Wide         9  \n",
       "2                           PG-13                               Wide         9  \n",
       "3                               G                               Wide         9  \n",
       "4                           PG-13                               Wide         9  "
      ]
     },
     "execution_count": 8,
     "metadata": {},
     "output_type": "execute_result"
    }
   ],
   "source": [
    "train_data.head()"
   ]
  },
  {
   "cell_type": "code",
   "execution_count": 9,
   "metadata": {},
   "outputs": [],
   "source": [
    "#For movies names, it could have positive impact or negative impact or no impact on the category\n",
    "#For customers and investors, they know Harry Potter very well based on the previous movies or the book.\n",
    "#Another good example is Avatar. Investor cannot know what is Avatar just based on the name. \n",
    "#They need to look at the movie descriptions, movies lines, background stories etc to understand this movie.\n",
    "#As a result, movie name and display name do not have any impact in this case\n",
    "train_data = train_data.drop(['name'], axis =1)\n",
    "train_data = train_data.drop(['display_name'], axis = 1)"
   ]
  },
  {
   "cell_type": "code",
   "execution_count": 10,
   "metadata": {},
   "outputs": [
    {
     "data": {
      "text/html": [
       "<div>\n",
       "<style scoped>\n",
       "    .dataframe tbody tr th:only-of-type {\n",
       "        vertical-align: middle;\n",
       "    }\n",
       "\n",
       "    .dataframe tbody tr th {\n",
       "        vertical-align: top;\n",
       "    }\n",
       "\n",
       "    .dataframe thead th {\n",
       "        text-align: right;\n",
       "    }\n",
       "</style>\n",
       "<table border=\"1\" class=\"dataframe\">\n",
       "  <thead>\n",
       "    <tr style=\"text-align: right;\">\n",
       "      <th></th>\n",
       "      <th>production_year</th>\n",
       "      <th>movie_sequel</th>\n",
       "      <th>creative_type</th>\n",
       "      <th>source</th>\n",
       "      <th>production_method</th>\n",
       "      <th>genre</th>\n",
       "      <th>language</th>\n",
       "      <th>board_rating_reason</th>\n",
       "      <th>movie_board_rating_display_name</th>\n",
       "      <th>movie_release_pattern_display_name</th>\n",
       "      <th>Category</th>\n",
       "    </tr>\n",
       "  </thead>\n",
       "  <tbody>\n",
       "    <tr>\n",
       "      <th>0</th>\n",
       "      <td>2009</td>\n",
       "      <td>0</td>\n",
       "      <td>Science Fiction</td>\n",
       "      <td>Original Screenplay</td>\n",
       "      <td>Animation/Live Action</td>\n",
       "      <td>Action</td>\n",
       "      <td>English</td>\n",
       "      <td>For intense epic battle sequences and warfare,...</td>\n",
       "      <td>PG-13</td>\n",
       "      <td>Wide</td>\n",
       "      <td>9</td>\n",
       "    </tr>\n",
       "    <tr>\n",
       "      <th>1</th>\n",
       "      <td>2011</td>\n",
       "      <td>1</td>\n",
       "      <td>Fantasy</td>\n",
       "      <td>Based on Fiction Book/Short Story</td>\n",
       "      <td>Animation/Live Action</td>\n",
       "      <td>Adventure</td>\n",
       "      <td>English</td>\n",
       "      <td>for some sequences of intense action violence ...</td>\n",
       "      <td>PG-13</td>\n",
       "      <td>Wide</td>\n",
       "      <td>9</td>\n",
       "    </tr>\n",
       "    <tr>\n",
       "      <th>2</th>\n",
       "      <td>2011</td>\n",
       "      <td>1</td>\n",
       "      <td>Science Fiction</td>\n",
       "      <td>Based on TV</td>\n",
       "      <td>Animation/Live Action</td>\n",
       "      <td>Action</td>\n",
       "      <td>English</td>\n",
       "      <td>for intense prolonged sequences of sci-fi acti...</td>\n",
       "      <td>PG-13</td>\n",
       "      <td>Wide</td>\n",
       "      <td>9</td>\n",
       "    </tr>\n",
       "    <tr>\n",
       "      <th>3</th>\n",
       "      <td>2010</td>\n",
       "      <td>1</td>\n",
       "      <td>Kids Fiction</td>\n",
       "      <td>Original Screenplay</td>\n",
       "      <td>Digital Animation</td>\n",
       "      <td>Adventure</td>\n",
       "      <td>English</td>\n",
       "      <td>General</td>\n",
       "      <td>G</td>\n",
       "      <td>Wide</td>\n",
       "      <td>9</td>\n",
       "    </tr>\n",
       "    <tr>\n",
       "      <th>4</th>\n",
       "      <td>2011</td>\n",
       "      <td>1</td>\n",
       "      <td>Fantasy</td>\n",
       "      <td>Based on Theme Park Ride</td>\n",
       "      <td>Live Action</td>\n",
       "      <td>Adventure</td>\n",
       "      <td>English</td>\n",
       "      <td>for intense sequences of action/adventure viol...</td>\n",
       "      <td>PG-13</td>\n",
       "      <td>Wide</td>\n",
       "      <td>9</td>\n",
       "    </tr>\n",
       "  </tbody>\n",
       "</table>\n",
       "</div>"
      ],
      "text/plain": [
       "   production_year  movie_sequel    creative_type  \\\n",
       "0             2009             0  Science Fiction   \n",
       "1             2011             1          Fantasy   \n",
       "2             2011             1  Science Fiction   \n",
       "3             2010             1     Kids Fiction   \n",
       "4             2011             1          Fantasy   \n",
       "\n",
       "                              source      production_method      genre  \\\n",
       "0                Original Screenplay  Animation/Live Action     Action   \n",
       "1  Based on Fiction Book/Short Story  Animation/Live Action  Adventure   \n",
       "2                        Based on TV  Animation/Live Action     Action   \n",
       "3                Original Screenplay      Digital Animation  Adventure   \n",
       "4           Based on Theme Park Ride            Live Action  Adventure   \n",
       "\n",
       "  language                                board_rating_reason  \\\n",
       "0  English  For intense epic battle sequences and warfare,...   \n",
       "1  English  for some sequences of intense action violence ...   \n",
       "2  English  for intense prolonged sequences of sci-fi acti...   \n",
       "3  English                                            General   \n",
       "4  English  for intense sequences of action/adventure viol...   \n",
       "\n",
       "  movie_board_rating_display_name movie_release_pattern_display_name  Category  \n",
       "0                           PG-13                               Wide         9  \n",
       "1                           PG-13                               Wide         9  \n",
       "2                           PG-13                               Wide         9  \n",
       "3                               G                               Wide         9  \n",
       "4                           PG-13                               Wide         9  "
      ]
     },
     "execution_count": 10,
     "metadata": {},
     "output_type": "execute_result"
    }
   ],
   "source": [
    "train_data.head()"
   ]
  },
  {
   "cell_type": "code",
   "execution_count": 11,
   "metadata": {},
   "outputs": [
    {
     "data": {
      "image/png": "[encoded data removed]",
      "text/plain": [
       "<Figure size 432x288 with 1 Axes>"
      ]
     },
     "metadata": {},
     "output_type": "display_data"
    },
    {
     "data": {
      "text/plain": [
       "<Figure size 432x288 with 0 Axes>"
      ]
     },
     "metadata": {},
     "output_type": "display_data"
    }
   ],
   "source": [
    "#see the distribution of the year\n",
    "sns.countplot(x='production_year',data=train_data,palette='hls')\n",
    "plt.show()\n",
    "plt.savefig('count_plot')\n",
    "#based on the result, the movies are well distributed by different years"
   ]
  },
  {
   "cell_type": "code",
   "execution_count": 12,
   "metadata": {},
   "outputs": [
    {
     "data": {
      "image/png": "[encoded data removed]",
      "text/plain": [
       "<Figure size 432x288 with 1 Axes>"
      ]
     },
     "metadata": {},
     "output_type": "display_data"
    },
    {
     "data": {
      "text/plain": [
       "<Figure size 432x288 with 0 Axes>"
      ]
     },
     "metadata": {},
     "output_type": "display_data"
    }
   ],
   "source": [
    "#see the distribution of creative type\n",
    "sns.countplot(x='creative_type',data=train_data,palette='hls')\n",
    "plt.xticks(rotation=90)\n",
    "plt.show()\n",
    "plt.savefig('count_plot')\n",
    "#most of the movies are contemporary fiction, but there are other movies in other creative types"
   ]
  },
  {
   "cell_type": "code",
   "execution_count": 13,
   "metadata": {},
   "outputs": [
    {
     "data": {
      "image/png": "[encoded data removed]",
      "text/plain": [
       "<Figure size 432x288 with 1 Axes>"
      ]
     },
     "metadata": {},
     "output_type": "display_data"
    },
    {
     "data": {
      "text/plain": [
       "<Figure size 432x288 with 0 Axes>"
      ]
     },
     "metadata": {},
     "output_type": "display_data"
    }
   ],
   "source": [
    "#see the distribution of the source\n",
    "sns.countplot(x='source',data=train_data,palette='hls')\n",
    "plt.xticks(rotation=90)\n",
    "plt.show()\n",
    "plt.savefig('count_plot')\n",
    "#most of the movies are \"original screenplay\", but there are movies from other sources"
   ]
  },
  {
   "cell_type": "code",
   "execution_count": 14,
   "metadata": {},
   "outputs": [
    {
     "data": {
      "image/png": "[encoded data removed]",
      "text/plain": [
       "<Figure size 432x288 with 1 Axes>"
      ]
     },
     "metadata": {},
     "output_type": "display_data"
    },
    {
     "data": {
      "text/plain": [
       "<Figure size 432x288 with 0 Axes>"
      ]
     },
     "metadata": {},
     "output_type": "display_data"
    }
   ],
   "source": [
    "#see the distribution of the genre\n",
    "sns.countplot(x='genre',data=train_data,palette='hls')\n",
    "plt.xticks(rotation=90)\n",
    "plt.show()\n",
    "plt.savefig('count_plot')\n",
    "#based on the result, the movies genres are well distributed"
   ]
  },
  {
   "cell_type": "code",
   "execution_count": 15,
   "metadata": {},
   "outputs": [
    {
     "data": {
      "image/png": "[encoded data removed]",
      "text/plain": [
       "<Figure size 432x288 with 1 Axes>"
      ]
     },
     "metadata": {},
     "output_type": "display_data"
    },
    {
     "data": {
      "text/plain": [
       "<Figure size 432x288 with 0 Axes>"
      ]
     },
     "metadata": {},
     "output_type": "display_data"
    }
   ],
   "source": [
    "#see the distribution of the language\n",
    "sns.countplot(x='language',data=train_data,palette='hls')\n",
    "plt.xticks(rotation=90)\n",
    "plt.show()\n",
    "plt.savefig('count_plot')\n",
    "#based on the result, almost all movies are English. So language is not a good variable for prediction"
   ]
  },
  {
   "cell_type": "code",
   "execution_count": 47,
   "metadata": {},
   "outputs": [
    {
     "data": {
      "image/png": "[encoded data removed]",
      "text/plain": [
       "<Figure size 432x288 with 1 Axes>"
      ]
     },
     "metadata": {},
     "output_type": "display_data"
    },
    {
     "data": {
      "text/plain": [
       "<Figure size 432x288 with 0 Axes>"
      ]
     },
     "metadata": {},
     "output_type": "display_data"
    }
   ],
   "source": [
    "#see the distribution of the product method\n",
    "sns.countplot(x='production_method',data=train_data,palette='hls')\n",
    "plt.xticks(rotation=90)\n",
    "plt.show()\n",
    "plt.savefig('count_plot')\n",
    "#based on the result, almost all movies are Live Action. I will keep this variable so far."
   ]
  },
  {
   "cell_type": "code",
   "execution_count": 17,
   "metadata": {},
   "outputs": [],
   "source": [
    "#see the unique values in the board_rating_reason\n",
    "train_data[\"board_rating_reason\"].unique()\n",
    "#there are so many unique values in this variable, and they are only descriptive words of the movie rating\n",
    "#so they are not very useful in this case, so we can delete it\n",
    "train_data = train_data.drop(['board_rating_reason'],axis =1)"
   ]
  },
  {
   "cell_type": "code",
   "execution_count": 18,
   "metadata": {},
   "outputs": [
    {
     "data": {
      "image/png": "[encoded data removed]",
      "text/plain": [
       "<Figure size 432x288 with 1 Axes>"
      ]
     },
     "metadata": {},
     "output_type": "display_data"
    },
    {
     "data": {
      "text/plain": [
       "<Figure size 432x288 with 0 Axes>"
      ]
     },
     "metadata": {},
     "output_type": "display_data"
    }
   ],
   "source": [
    "#see the distribution of the movie board rating display name\n",
    "sns.countplot(x='movie_board_rating_display_name',data=train_data,palette='hls')\n",
    "plt.xticks(rotation=90)\n",
    "plt.show()\n",
    "plt.savefig('count_plot')\n",
    "#based on the result, the movies are well distributed to different ratings"
   ]
  },
  {
   "cell_type": "code",
   "execution_count": 19,
   "metadata": {},
   "outputs": [
    {
     "data": {
      "image/png": "[encoded data removed]",
      "text/plain": [
       "<Figure size 432x288 with 1 Axes>"
      ]
     },
     "metadata": {},
     "output_type": "display_data"
    },
    {
     "data": {
      "text/plain": [
       "<Figure size 432x288 with 0 Axes>"
      ]
     },
     "metadata": {},
     "output_type": "display_data"
    }
   ],
   "source": [
    "#see the distribution of the movie_release_pattern_display_name\n",
    "sns.countplot(x='movie_release_pattern_display_name',data=train_data,palette='hls')\n",
    "plt.xticks(rotation=90)\n",
    "plt.show()\n",
    "plt.savefig('count_plot')\n",
    "#based on the result, majority of the movies are Wide, but there are some movies in Limited, Expands Wide and Exclusive"
   ]
  },
  {
   "cell_type": "code",
   "execution_count": 20,
   "metadata": {},
   "outputs": [
    {
     "data": {
      "image/png": "[encoded data removed]",
      "text/plain": [
       "<Figure size 432x288 with 1 Axes>"
      ]
     },
     "metadata": {},
     "output_type": "display_data"
    },
    {
     "data": {
      "text/plain": [
       "<Figure size 432x288 with 0 Axes>"
      ]
     },
     "metadata": {},
     "output_type": "display_data"
    }
   ],
   "source": [
    "#see the distribution of the Category\n",
    "sns.countplot(x='Category',data=train_data,palette='hls')\n",
    "plt.xticks(rotation=90)\n",
    "plt.show()\n",
    "plt.savefig('count_plot')\n",
    "#based on the result, Category is well distributed"
   ]
  },
  {
   "cell_type": "code",
   "execution_count": 21,
   "metadata": {},
   "outputs": [],
   "source": [
    "#Drop language \n",
    "train_data = train_data.drop(['language'], axis = 1)"
   ]
  },
  {
   "cell_type": "code",
   "execution_count": 22,
   "metadata": {},
   "outputs": [],
   "source": [
    "#transfer product year from int to categorical data\n",
    "train_data['production_year'] = train_data['production_year'].astype('object')"
   ]
  },
  {
   "cell_type": "code",
   "execution_count": 23,
   "metadata": {},
   "outputs": [
    {
     "name": "stdout",
     "output_type": "stream",
     "text": [
      "(1196, 9)\n"
     ]
    },
    {
     "data": {
      "text/html": [
       "<div>\n",
       "<style scoped>\n",
       "    .dataframe tbody tr th:only-of-type {\n",
       "        vertical-align: middle;\n",
       "    }\n",
       "\n",
       "    .dataframe tbody tr th {\n",
       "        vertical-align: top;\n",
       "    }\n",
       "\n",
       "    .dataframe thead th {\n",
       "        text-align: right;\n",
       "    }\n",
       "</style>\n",
       "<table border=\"1\" class=\"dataframe\">\n",
       "  <thead>\n",
       "    <tr style=\"text-align: right;\">\n",
       "      <th></th>\n",
       "      <th>production_year</th>\n",
       "      <th>movie_sequel</th>\n",
       "      <th>creative_type</th>\n",
       "      <th>source</th>\n",
       "      <th>production_method</th>\n",
       "      <th>genre</th>\n",
       "      <th>movie_board_rating_display_name</th>\n",
       "      <th>movie_release_pattern_display_name</th>\n",
       "      <th>Category</th>\n",
       "    </tr>\n",
       "  </thead>\n",
       "  <tbody>\n",
       "    <tr>\n",
       "      <th>0</th>\n",
       "      <td>2009</td>\n",
       "      <td>0</td>\n",
       "      <td>Science Fiction</td>\n",
       "      <td>Original Screenplay</td>\n",
       "      <td>Animation/Live Action</td>\n",
       "      <td>Action</td>\n",
       "      <td>PG-13</td>\n",
       "      <td>Wide</td>\n",
       "      <td>9</td>\n",
       "    </tr>\n",
       "    <tr>\n",
       "      <th>1</th>\n",
       "      <td>2011</td>\n",
       "      <td>1</td>\n",
       "      <td>Fantasy</td>\n",
       "      <td>Based on Fiction Book/Short Story</td>\n",
       "      <td>Animation/Live Action</td>\n",
       "      <td>Adventure</td>\n",
       "      <td>PG-13</td>\n",
       "      <td>Wide</td>\n",
       "      <td>9</td>\n",
       "    </tr>\n",
       "    <tr>\n",
       "      <th>2</th>\n",
       "      <td>2011</td>\n",
       "      <td>1</td>\n",
       "      <td>Science Fiction</td>\n",
       "      <td>Based on TV</td>\n",
       "      <td>Animation/Live Action</td>\n",
       "      <td>Action</td>\n",
       "      <td>PG-13</td>\n",
       "      <td>Wide</td>\n",
       "      <td>9</td>\n",
       "    </tr>\n",
       "    <tr>\n",
       "      <th>3</th>\n",
       "      <td>2010</td>\n",
       "      <td>1</td>\n",
       "      <td>Kids Fiction</td>\n",
       "      <td>Original Screenplay</td>\n",
       "      <td>Digital Animation</td>\n",
       "      <td>Adventure</td>\n",
       "      <td>G</td>\n",
       "      <td>Wide</td>\n",
       "      <td>9</td>\n",
       "    </tr>\n",
       "    <tr>\n",
       "      <th>4</th>\n",
       "      <td>2011</td>\n",
       "      <td>1</td>\n",
       "      <td>Fantasy</td>\n",
       "      <td>Based on Theme Park Ride</td>\n",
       "      <td>Live Action</td>\n",
       "      <td>Adventure</td>\n",
       "      <td>PG-13</td>\n",
       "      <td>Wide</td>\n",
       "      <td>9</td>\n",
       "    </tr>\n",
       "  </tbody>\n",
       "</table>\n",
       "</div>"
      ],
      "text/plain": [
       "  production_year  movie_sequel    creative_type  \\\n",
       "0            2009             0  Science Fiction   \n",
       "1            2011             1          Fantasy   \n",
       "2            2011             1  Science Fiction   \n",
       "3            2010             1     Kids Fiction   \n",
       "4            2011             1          Fantasy   \n",
       "\n",
       "                              source      production_method      genre  \\\n",
       "0                Original Screenplay  Animation/Live Action     Action   \n",
       "1  Based on Fiction Book/Short Story  Animation/Live Action  Adventure   \n",
       "2                        Based on TV  Animation/Live Action     Action   \n",
       "3                Original Screenplay      Digital Animation  Adventure   \n",
       "4           Based on Theme Park Ride            Live Action  Adventure   \n",
       "\n",
       "  movie_board_rating_display_name movie_release_pattern_display_name  Category  \n",
       "0                           PG-13                               Wide         9  \n",
       "1                           PG-13                               Wide         9  \n",
       "2                           PG-13                               Wide         9  \n",
       "3                               G                               Wide         9  \n",
       "4                           PG-13                               Wide         9  "
      ]
     },
     "execution_count": 23,
     "metadata": {},
     "output_type": "execute_result"
    }
   ],
   "source": [
    "print(np.shape(train_data))\n",
    "train_data.head()"
   ]
  },
  {
   "cell_type": "markdown",
   "metadata": {},
   "source": [
    "From above results, we can see that there 1196 examples in the dataset and 9 variables. We need to transform the variables into dummy variables."
   ]
  },
  {
   "cell_type": "code",
   "execution_count": 24,
   "metadata": {},
   "outputs": [],
   "source": [
    "#create a dummy variable if it is categorical data and drop categorical columns\n",
    "def create_dummy(data_input):\n",
    "    var=None\n",
    "    column_name=list(data_input.columns)\n",
    "    for var in column_name:\n",
    "        if data_input[var].dtypes == 'object':\n",
    "            cat_list='var'+'_'+var\n",
    "            cat_list = pd.get_dummies(data_input[var], prefix=var)\n",
    "            data_input1=data_input.join(cat_list)\n",
    "            data_input=data_input1\n",
    "            data_input=data_input.drop([var],axis=1)\n",
    "    return data_input"
   ]
  },
  {
   "cell_type": "code",
   "execution_count": 25,
   "metadata": {},
   "outputs": [
    {
     "name": "stdout",
     "output_type": "stream",
     "text": [
      "(1196, 64)\n"
     ]
    },
    {
     "data": {
      "text/html": [
       "<div>\n",
       "<style scoped>\n",
       "    .dataframe tbody tr th:only-of-type {\n",
       "        vertical-align: middle;\n",
       "    }\n",
       "\n",
       "    .dataframe tbody tr th {\n",
       "        vertical-align: top;\n",
       "    }\n",
       "\n",
       "    .dataframe thead th {\n",
       "        text-align: right;\n",
       "    }\n",
       "</style>\n",
       "<table border=\"1\" class=\"dataframe\">\n",
       "  <thead>\n",
       "    <tr style=\"text-align: right;\">\n",
       "      <th></th>\n",
       "      <th>movie_sequel</th>\n",
       "      <th>Category</th>\n",
       "      <th>production_year_2007</th>\n",
       "      <th>production_year_2008</th>\n",
       "      <th>production_year_2009</th>\n",
       "      <th>production_year_2010</th>\n",
       "      <th>production_year_2011</th>\n",
       "      <th>creative_type_Contemporary Fiction</th>\n",
       "      <th>creative_type_Dramatization</th>\n",
       "      <th>creative_type_Factual</th>\n",
       "      <th>...</th>\n",
       "      <th>movie_board_rating_display_name_PG</th>\n",
       "      <th>movie_board_rating_display_name_PG-13</th>\n",
       "      <th>movie_board_rating_display_name_R</th>\n",
       "      <th>movie_release_pattern_display_name_Exclusive</th>\n",
       "      <th>movie_release_pattern_display_name_Expands Wide</th>\n",
       "      <th>movie_release_pattern_display_name_IMAX</th>\n",
       "      <th>movie_release_pattern_display_name_Limited</th>\n",
       "      <th>movie_release_pattern_display_name_Oscar Qualifying Run</th>\n",
       "      <th>movie_release_pattern_display_name_Special Engagement</th>\n",
       "      <th>movie_release_pattern_display_name_Wide</th>\n",
       "    </tr>\n",
       "  </thead>\n",
       "  <tbody>\n",
       "    <tr>\n",
       "      <th>0</th>\n",
       "      <td>0</td>\n",
       "      <td>9</td>\n",
       "      <td>0</td>\n",
       "      <td>0</td>\n",
       "      <td>1</td>\n",
       "      <td>0</td>\n",
       "      <td>0</td>\n",
       "      <td>0</td>\n",
       "      <td>0</td>\n",
       "      <td>0</td>\n",
       "      <td>...</td>\n",
       "      <td>0</td>\n",
       "      <td>1</td>\n",
       "      <td>0</td>\n",
       "      <td>0</td>\n",
       "      <td>0</td>\n",
       "      <td>0</td>\n",
       "      <td>0</td>\n",
       "      <td>0</td>\n",
       "      <td>0</td>\n",
       "      <td>1</td>\n",
       "    </tr>\n",
       "    <tr>\n",
       "      <th>1</th>\n",
       "      <td>1</td>\n",
       "      <td>9</td>\n",
       "      <td>0</td>\n",
       "      <td>0</td>\n",
       "      <td>0</td>\n",
       "      <td>0</td>\n",
       "      <td>1</td>\n",
       "      <td>0</td>\n",
       "      <td>0</td>\n",
       "      <td>0</td>\n",
       "      <td>...</td>\n",
       "      <td>0</td>\n",
       "      <td>1</td>\n",
       "      <td>0</td>\n",
       "      <td>0</td>\n",
       "      <td>0</td>\n",
       "      <td>0</td>\n",
       "      <td>0</td>\n",
       "      <td>0</td>\n",
       "      <td>0</td>\n",
       "      <td>1</td>\n",
       "    </tr>\n",
       "    <tr>\n",
       "      <th>2</th>\n",
       "      <td>1</td>\n",
       "      <td>9</td>\n",
       "      <td>0</td>\n",
       "      <td>0</td>\n",
       "      <td>0</td>\n",
       "      <td>0</td>\n",
       "      <td>1</td>\n",
       "      <td>0</td>\n",
       "      <td>0</td>\n",
       "      <td>0</td>\n",
       "      <td>...</td>\n",
       "      <td>0</td>\n",
       "      <td>1</td>\n",
       "      <td>0</td>\n",
       "      <td>0</td>\n",
       "      <td>0</td>\n",
       "      <td>0</td>\n",
       "      <td>0</td>\n",
       "      <td>0</td>\n",
       "      <td>0</td>\n",
       "      <td>1</td>\n",
       "    </tr>\n",
       "    <tr>\n",
       "      <th>3</th>\n",
       "      <td>1</td>\n",
       "      <td>9</td>\n",
       "      <td>0</td>\n",
       "      <td>0</td>\n",
       "      <td>0</td>\n",
       "      <td>1</td>\n",
       "      <td>0</td>\n",
       "      <td>0</td>\n",
       "      <td>0</td>\n",
       "      <td>0</td>\n",
       "      <td>...</td>\n",
       "      <td>0</td>\n",
       "      <td>0</td>\n",
       "      <td>0</td>\n",
       "      <td>0</td>\n",
       "      <td>0</td>\n",
       "      <td>0</td>\n",
       "      <td>0</td>\n",
       "      <td>0</td>\n",
       "      <td>0</td>\n",
       "      <td>1</td>\n",
       "    </tr>\n",
       "    <tr>\n",
       "      <th>4</th>\n",
       "      <td>1</td>\n",
       "      <td>9</td>\n",
       "      <td>0</td>\n",
       "      <td>0</td>\n",
       "      <td>0</td>\n",
       "      <td>0</td>\n",
       "      <td>1</td>\n",
       "      <td>0</td>\n",
       "      <td>0</td>\n",
       "      <td>0</td>\n",
       "      <td>...</td>\n",
       "      <td>0</td>\n",
       "      <td>1</td>\n",
       "      <td>0</td>\n",
       "      <td>0</td>\n",
       "      <td>0</td>\n",
       "      <td>0</td>\n",
       "      <td>0</td>\n",
       "      <td>0</td>\n",
       "      <td>0</td>\n",
       "      <td>1</td>\n",
       "    </tr>\n",
       "  </tbody>\n",
       "</table>\n",
       "<p>5 rows × 64 columns</p>\n",
       "</div>"
      ],
      "text/plain": [
       "   movie_sequel  Category  production_year_2007  production_year_2008  \\\n",
       "0             0         9                     0                     0   \n",
       "1             1         9                     0                     0   \n",
       "2             1         9                     0                     0   \n",
       "3             1         9                     0                     0   \n",
       "4             1         9                     0                     0   \n",
       "\n",
       "   production_year_2009  production_year_2010  production_year_2011  \\\n",
       "0                     1                     0                     0   \n",
       "1                     0                     0                     1   \n",
       "2                     0                     0                     1   \n",
       "3                     0                     1                     0   \n",
       "4                     0                     0                     1   \n",
       "\n",
       "   creative_type_Contemporary Fiction  creative_type_Dramatization  \\\n",
       "0                                   0                            0   \n",
       "1                                   0                            0   \n",
       "2                                   0                            0   \n",
       "3                                   0                            0   \n",
       "4                                   0                            0   \n",
       "\n",
       "   creative_type_Factual                   ...                     \\\n",
       "0                      0                   ...                      \n",
       "1                      0                   ...                      \n",
       "2                      0                   ...                      \n",
       "3                      0                   ...                      \n",
       "4                      0                   ...                      \n",
       "\n",
       "   movie_board_rating_display_name_PG  movie_board_rating_display_name_PG-13  \\\n",
       "0                                   0                                      1   \n",
       "1                                   0                                      1   \n",
       "2                                   0                                      1   \n",
       "3                                   0                                      0   \n",
       "4                                   0                                      1   \n",
       "\n",
       "   movie_board_rating_display_name_R  \\\n",
       "0                                  0   \n",
       "1                                  0   \n",
       "2                                  0   \n",
       "3                                  0   \n",
       "4                                  0   \n",
       "\n",
       "   movie_release_pattern_display_name_Exclusive  \\\n",
       "0                                             0   \n",
       "1                                             0   \n",
       "2                                             0   \n",
       "3                                             0   \n",
       "4                                             0   \n",
       "\n",
       "   movie_release_pattern_display_name_Expands Wide  \\\n",
       "0                                                0   \n",
       "1                                                0   \n",
       "2                                                0   \n",
       "3                                                0   \n",
       "4                                                0   \n",
       "\n",
       "   movie_release_pattern_display_name_IMAX  \\\n",
       "0                                        0   \n",
       "1                                        0   \n",
       "2                                        0   \n",
       "3                                        0   \n",
       "4                                        0   \n",
       "\n",
       "   movie_release_pattern_display_name_Limited  \\\n",
       "0                                           0   \n",
       "1                                           0   \n",
       "2                                           0   \n",
       "3                                           0   \n",
       "4                                           0   \n",
       "\n",
       "   movie_release_pattern_display_name_Oscar Qualifying Run  \\\n",
       "0                                                  0         \n",
       "1                                                  0         \n",
       "2                                                  0         \n",
       "3                                                  0         \n",
       "4                                                  0         \n",
       "\n",
       "   movie_release_pattern_display_name_Special Engagement  \\\n",
       "0                                                  0       \n",
       "1                                                  0       \n",
       "2                                                  0       \n",
       "3                                                  0       \n",
       "4                                                  0       \n",
       "\n",
       "   movie_release_pattern_display_name_Wide  \n",
       "0                                        1  \n",
       "1                                        1  \n",
       "2                                        1  \n",
       "3                                        1  \n",
       "4                                        1  \n",
       "\n",
       "[5 rows x 64 columns]"
      ]
     },
     "execution_count": 25,
     "metadata": {},
     "output_type": "execute_result"
    }
   ],
   "source": [
    "data_input = create_dummy(train_data)\n",
    "print(np.shape(data_input))\n",
    "data_input.head()"
   ]
  },
  {
   "cell_type": "markdown",
   "metadata": {},
   "source": [
    "# Softmax Classifier with One-layer Neural Network"
   ]
  },
  {
   "cell_type": "markdown",
   "metadata": {},
   "source": [
    "Based on the target variable \"Category\", we can see that it has multiple different values. As a result, this is a classification problem. In order to classify \"Category\", the first algorithm I will use is Softmax regression, aka multinomial logistic regression. For the Softmax regression, we can think it as a one layer, k neurons (in this case, k = 9) neural network. Below is an example of one-layer neural network with Softmax activation function for the output layer.\n",
    "\n",
    "<img src=\"Softmax_classifier.png\" alt=\"Drawing\" style=\"width: 400px;\"/>\n",
    "\n",
    "Image is from: http://eric-yuan.me/simple-deep-network/"
   ]
  },
  {
   "cell_type": "markdown",
   "metadata": {},
   "source": [
    "Before starting to code the softmax regression algorithm, I will do \"one-hot coding\" for the targeted variable Category. The reason that I am doing the one-hot coding is the output of the softmax regression is a matrix in (1196,9) dimension. Without using Softmax classifier if the prediction is [0, 0.6, 0.4, 0.4, 0.4, 0.4, 0, 0.6, 0.7], the predict process will predict every data point which is above 0.5 as 1 [0, 1, 0, 0, 0, 0, 1, 1]. As a consequence, the movie is in category 2, 8, and 9, which is impossible. \n",
    "\n",
    "What Softmax function does is use exp(z1)/Σ[exp(z1)+exp(z2)+...+exp(z9]. As a result, the softmax prediction will be \n",
    "[0, 0.1538, 0.1026, 0.1026, 0.1026, 0.1026, 0, 0.1538, 0.1795]. So we can see that Category 9 has the highest number, so argmax = 9."
   ]
  },
  {
   "cell_type": "code",
   "execution_count": 26,
   "metadata": {},
   "outputs": [],
   "source": [
    "def onehot(data):\n",
    "    \n",
    "    data_with_dummy= create_dummy(data)\n",
    "    dataY = data_with_dummy['Category']\n",
    "    dataX = data_with_dummy.drop(['Category'],axis = 1)\n",
    "    \n",
    "    data_one_hot_Y = to_categorical(dataY)\n",
    "    data_one_hot_Y = data_one_hot_Y[:,1:10] #drop the column 0\n",
    "    dataX = np.asarray(dataX)\n",
    "    \n",
    "    return dataX, data_one_hot_Y\n"
   ]
  },
  {
   "cell_type": "code",
   "execution_count": 27,
   "metadata": {},
   "outputs": [
    {
     "name": "stdout",
     "output_type": "stream",
     "text": [
      "(1196, 9)\n",
      "(1196, 63)\n"
     ]
    }
   ],
   "source": [
    "dataX, data_one_hot_Y = onehot(train_data)\n",
    "print(data_one_hot_Y.shape)\n",
    "print(dataX.shape)"
   ]
  },
  {
   "cell_type": "markdown",
   "metadata": {},
   "source": [
    "After doing one-hot coding, then we split the data into train (72%), dev (18%), and test set (10%)."
   ]
  },
  {
   "cell_type": "code",
   "execution_count": 28,
   "metadata": {},
   "outputs": [],
   "source": [
    "#transform the data from Pandas Frame to numpy array and split into Train, Dev and Test Set\n",
    "def data_preprocess(data):\n",
    "    \n",
    "    dataX, data_one_hot_Y= onehot(data)\n",
    "    #split train, dev, and test datasets\n",
    "    x_train, x_test, y_train, y_test = train_test_split(dataX, data_one_hot_Y, test_size=0.1, random_state=0)\n",
    "    \n",
    "    return x_train, x_test, y_train, y_test\n",
    "    "
   ]
  },
  {
   "cell_type": "code",
   "execution_count": 29,
   "metadata": {},
   "outputs": [],
   "source": [
    "def kfold_split(k,x_train,y_train):\n",
    "    kf = KFold(n_splits=k, random_state=0)\n",
    "    all_kfold_trainX = []\n",
    "    all_kfold_testX = []\n",
    "    all_kfold_trainY = []\n",
    "    all_kfold_testY = []\n",
    "    for train_index, test_index in kf.split(x_train):\n",
    "        kfold_trainX, kfold_testX = x_train[train_index], x_train[test_index]\n",
    "        kfold_trainY, kfold_testY = y_train[train_index], y_train[test_index]\n",
    "        all_kfold_trainX.append(kfold_trainX)\n",
    "        all_kfold_testX.append(kfold_testX)\n",
    "        all_kfold_trainY.append(kfold_trainY)\n",
    "        all_kfold_testY.append(kfold_testY)\n",
    "    \n",
    "    return all_kfold_trainX, all_kfold_testX, all_kfold_trainY, all_kfold_testY"
   ]
  },
  {
   "cell_type": "markdown",
   "metadata": {},
   "source": [
    "After splitting the data, we start to build the Softmax regression algorithm.\n",
    "For the (i)th specific node, the prediction ŷ = exp(z[i]) / Σ(exp(z[i]), i=1,2,3,.....,m and z[i] = w[i]*x + b"
   ]
  },
  {
   "cell_type": "code",
   "execution_count": 30,
   "metadata": {},
   "outputs": [],
   "source": [
    "def softmax(x_train, W):\n",
    "\n",
    "    Z = np.dot(x_train, W)\n",
    "\n",
    "    soft_max = np.exp(Z)/ np.sum(np.exp(Z),axis=1, keepdims=True)\n",
    "    \n",
    "    return soft_max"
   ]
  },
  {
   "cell_type": "markdown",
   "metadata": {},
   "source": [
    "Then, we will use the cross-entropy loss to calculate the loss function of the prediction: \n",
    "L = -Σylog(ŷ) with L2 regularization. Also, we will calculate gradient descent of W. After calculating the loss function, we will use gradient descent to update the weights W and b."
   ]
  },
  {
   "cell_type": "code",
   "execution_count": 31,
   "metadata": {},
   "outputs": [],
   "source": [
    "def cross_entropy(x, y, lambd, lr, W):\n",
    "    soft_max = softmax(x,W)\n",
    "    m = x.shape[0]\n",
    "    loss = (-1/m)*np.sum(y*np.log(soft_max)) + (lambd/2)*np.sum(W*W) #calculate the cross entropy loss\n",
    "    grad = (-1/m)*np.dot(x.T, y - soft_max) + lambd*W #calculate the gradient descent\n",
    "    W = W - lr*grad #using gradient descent to update W\n",
    "    return loss, grad, W"
   ]
  },
  {
   "cell_type": "markdown",
   "metadata": {},
   "source": [
    "Apply softmax model on the test dataset for prediction."
   ]
  },
  {
   "cell_type": "code",
   "execution_count": 32,
   "metadata": {},
   "outputs": [],
   "source": [
    "def prediction(x_test, y_test, W):\n",
    "    \n",
    "    m = x_test.shape[0]\n",
    "    soft_max = softmax(x_test, W)\n",
    "    soft_max_maximum = np.max(soft_max,axis=1)\n",
    "    soft_max_maximum = soft_max_maximum.reshape(soft_max_maximum.shape[0],1)\n",
    "    pred = ((soft_max-soft_max_maximum)==0)\n",
    "    result = np.zeros(x_test.shape[0])\n",
    "    for i in range(x_test.shape[0]):\n",
    "        result[i] = (np.sum(pred[i]==y_test[i])==9)\n",
    "    \n",
    "    Accuracy = np.sum(result)/m\n",
    "    return Accuracy"
   ]
  },
  {
   "cell_type": "markdown",
   "metadata": {},
   "source": [
    "Run the main function. In the main function, we will decide the threshold to make sure the gradient descent is going to converge. The threshold is 1e-5. Otherwise, the maximum number of iterations will be 8000. Learning rate will 0.005. Lambda will be 0.1. I just arbitrarily determined numbers for hyper-parameters. Future work will include tuning these hyper-parameters."
   ]
  },
  {
   "cell_type": "code",
   "execution_count": 48,
   "metadata": {},
   "outputs": [],
   "source": [
    "def main_softmax(data, k, maxiterations=3000, learning_rate=0.2, lambd=0.1):\n",
    "\n",
    "    x_train, x_test, y_train, y_test = data_preprocess(data)\n",
    "    \n",
    "    all_kfold_trainX, all_kfold_testX, all_kfold_trainY, all_kfold_testY = kfold_split(k,x_train,y_train)\n",
    "    \n",
    "    all_accuracy = []\n",
    "    all_weights = []\n",
    "    \n",
    "    for i in range(k):     \n",
    "        W = np.random.randn(all_kfold_trainX[i].shape[1],9)\n",
    "        soft_max = softmax(all_kfold_trainX[i], W)\n",
    "        loss, grad, W = cross_entropy(all_kfold_trainX[i], all_kfold_trainY[i], lambd, learning_rate, W)\n",
    "        losses = []\n",
    "        losses.append(loss)\n",
    "        threshold = 1e-5\n",
    "        prev_loss = 0\n",
    "        j=1\n",
    "        while abs(prev_loss - loss)>threshold and j < maxiterations:\n",
    "            soft_max = softmax(all_kfold_trainX[i], W)\n",
    "            prev_loss = loss\n",
    "            loss, grad, W = cross_entropy(all_kfold_trainX[i], all_kfold_trainY[i], lambd, learning_rate, W)\n",
    "            j+=1\n",
    "            \n",
    "            \"\"\"\n",
    "            # Print the cost every 100 training example\n",
    "            if j % 100 == 0:\n",
    "                print (\"Loss after iteration %i: %f\" %(j, loss))\n",
    "            if j % 100 == 0:\n",
    "                losses.append(loss)\n",
    "            \"\"\"\n",
    "               \n",
    "        Accuracy = prediction(all_kfold_testX[i], all_kfold_testY[i], W)\n",
    "        print(\"Accuracy is :\", Accuracy, \"in fold \", i)\n",
    "        all_weights.append(W)\n",
    "        all_accuracy.append(Accuracy)\n",
    "    \n",
    "    print(\"The mean accuracy of\", k, \"fold validation is: \", np.mean(all_accuracy))\n",
    "    \n",
    "    mean_weight = np.mean(all_weights, axis = 0)\n",
    "    \n",
    "    Accuracy = prediction(x_test, y_test,  mean_weight)\n",
    "    print(\"Test Set Accuracy is :\", Accuracy)\n",
    "    \n",
    "    return mean_weight"
   ]
  },
  {
   "cell_type": "code",
   "execution_count": 34,
   "metadata": {},
   "outputs": [
    {
     "name": "stdout",
     "output_type": "stream",
     "text": [
      "Accuracy is : 0.32407407407407407 in fold  0\n",
      "Accuracy is : 0.19444444444444445 in fold  1\n",
      "Accuracy is : 0.26851851851851855 in fold  2\n",
      "Accuracy is : 0.2037037037037037 in fold  3\n",
      "Accuracy is : 0.19444444444444445 in fold  4\n",
      "Accuracy is : 0.2962962962962963 in fold  5\n",
      "Accuracy is : 0.2803738317757009 in fold  6\n",
      "Accuracy is : 0.2616822429906542 in fold  7\n",
      "Accuracy is : 0.21495327102803738 in fold  8\n",
      "Accuracy is : 0.2336448598130841 in fold  9\n",
      "The mean accuracy of 10 fold validation is:  0.2472135687088958\n",
      "Test Set Accuracy is : 0.275\n"
     ]
    }
   ],
   "source": [
    "W = main_softmax(train_data, k=10, maxiterations=8000, learning_rate=0.005, lambd=0.1)"
   ]
  },
  {
   "cell_type": "markdown",
   "metadata": {},
   "source": [
    "From the Softmax regression I got 27.5% accuracy."
   ]
  },
  {
   "cell_type": "markdown",
   "metadata": {},
   "source": [
    "---"
   ]
  },
  {
   "cell_type": "markdown",
   "metadata": {},
   "source": [
    "# Random Forest"
   ]
  },
  {
   "cell_type": "markdown",
   "metadata": {},
   "source": [
    "Random Forest is another way of doing classification. The best of Random Forest is it is an extension over bagging. It takes one extra step where in addition to taking the random subset of data, it also takes the random selection of features rather than using all features to grow trees. According to the Bias-Variance Analysis: Variance(x) = 𝜌(𝜎^2) + (1-𝜌)/M * (𝜎^2). So as we increase the number of sample trees M, the Variance will reduce. Their ability to limit overfitting without substantially increasing error due to bias is the reaso that I am going to use this model for the case."
   ]
  },
  {
   "cell_type": "code",
   "execution_count": 39,
   "metadata": {},
   "outputs": [],
   "source": [
    "from sklearn.ensemble import RandomForestClassifier"
   ]
  },
  {
   "cell_type": "code",
   "execution_count": 40,
   "metadata": {},
   "outputs": [],
   "source": [
    "def randomforest(dev_trainX, dev_trainY, nestimators, maxdepth, minsampleleaf, minsamplesplit):\n",
    "    \n",
    "    #start to create the Random Forest Model\n",
    "    rf_Model= RandomForestClassifier(n_estimators=nestimators, max_depth=maxdepth, min_samples_leaf= minsampleleaf,\n",
    "                                 min_samples_split = minsamplesplit, random_state=0)\n",
    "    \n",
    "    rf_Model.fit(dev_trainX, dev_trainY)\n",
    "    #print(rf_Model.feature_importances_)\n",
    "    \n",
    "    \n",
    "    return rf_Model"
   ]
  },
  {
   "cell_type": "code",
   "execution_count": 41,
   "metadata": {},
   "outputs": [],
   "source": [
    "def main_RF(data, k, nestimators, maxdepth, minsampleleaf, minsamplesplit):\n",
    "\n",
    "    data_with_dummy = create_dummy(data)\n",
    "    \n",
    "    Y = data_with_dummy['Category']\n",
    "    X = data_with_dummy.drop(['Category'], axis = 1)\n",
    "    \n",
    "    Y = np.asarray(Y)\n",
    "    X = np.asarray(X)\n",
    "    \n",
    "    #just split original data, but not doing one-hot encoding\n",
    "    x_train, x_test, y_train, y_test = train_test_split(X, Y, test_size=0.1, random_state=0)\n",
    "    \n",
    "    \n",
    "    all_kfold_trainX, all_kfold_testX, all_kfold_trainY, all_kfold_testY = kfold_split(k,x_train,y_train)\n",
    "    \n",
    "    best_accuracy = 0 #save the best accuracy\n",
    "    best_hyperparameter = np.zeros(4) #to save the best combination of 4 different hyper-parameters\n",
    "    best_model = None\n",
    "    \n",
    "    \n",
    "\n",
    "    for i in range(k):\n",
    "        for n in nestimators:\n",
    "            for ma in maxdepth:\n",
    "                for msl in minsampleleaf:\n",
    "                    for mss in minsamplesplit:\n",
    "                        m = all_kfold_testX[i].shape[0]\n",
    "                        result = np.zeros(m)\n",
    "                        rf_Model = randomforest(all_kfold_trainX[i], all_kfold_trainY[i], n, ma, msl, mss)\n",
    "                        pred_result = rf_Model.predict(all_kfold_testX[i])\n",
    "                        \n",
    "                        #start to calculate the accuracy\n",
    "                        for j in range(all_kfold_testX[i].shape[0]):\n",
    "                            result[j] = (pred_result[j]==all_kfold_trainY[i][j])\n",
    "                            \n",
    "                        Accuracy = np.sum(result)/m\n",
    "                        \n",
    "                        #to figure out the best combination of the hyper-parameters\n",
    "                        if Accuracy> best_accuracy:\n",
    "                            best_accuracy = Accuracy\n",
    "                            best_hyperparameter = [n, ma, msl, mss]\n",
    "                            best_model = rf_Model\n",
    "                            \n",
    "                        print(\"Current progress of hyper-parameter tuning: \", n, ma, msl, mss, Accuracy)\n",
    "                            \n",
    "    print(\"Best\",k,\"fold accuracy is: \", best_accuracy)\n",
    "    print(\"Best n-estimators: \", best_hyperparameter[0])\n",
    "    print(\"Best max_depth: \", best_hyperparameter[1])\n",
    "    print(\"Best min_sample_leaf: \", best_hyperparameter[2])\n",
    "    print(\"Best min_sample_split: \", best_hyperparameter[3])\n",
    "    \n",
    "    #using test dataset for prediction\n",
    "    pred_result = best_model.predict(x_test)\n",
    "    \n",
    "    m = x_test.shape[0]\n",
    "    result = np.zeros(m)\n",
    "    #calcuate the accuracy\n",
    "    for i in range(m):\n",
    "        result[i] = pred_result[i]==y_test[i]\n",
    "    \n",
    "    Accuracy = np.sum(result)/x_test.shape[0]\n",
    "    \n",
    "    print(\"The Test Dataset Accuracy is: \",Accuracy)\n",
    "    \n",
    "    return best_hyperparameter"
   ]
  },
  {
   "cell_type": "markdown",
   "metadata": {},
   "source": [
    "The reason that I am tuning the parameters by using randomly generated numbers is: \n",
    "\n",
    "From the left figure we can see that the hyperparameters have the grid layout. The important hyperparameter will decide when to reach the optimzal points. However, since it is grid layout, so the imporant hyperparameter only be tested three combinations. But none of them reached the highest value. However, if we use random hyperparameter tuning, we can gurantee that we will test more combinations of hyperparameters. And it has much higher chance to reach the highest value.\n",
    "\n",
    "<img src=\"Hyperparameter Tuning Strategy.png\" alt=\"Drawing\" style=\"width: 400px;\"/>\n",
    "\n",
    "Image is from the paper \"Random Search for Hyper-Parameter Optimization\" by James Bergstra and Yoshua Bengio"
   ]
  },
  {
   "cell_type": "code",
   "execution_count": 42,
   "metadata": {},
   "outputs": [
    {
     "name": "stdout",
     "output_type": "stream",
     "text": [
      "Current progress of hyper-parameter tuning:  254 39 13 6 0.14814814814814814\n",
      "Current progress of hyper-parameter tuning:  254 39 13 8 0.14814814814814814\n",
      "Current progress of hyper-parameter tuning:  254 39 6 6 0.16666666666666666\n",
      "Current progress of hyper-parameter tuning:  254 39 6 8 0.16666666666666666\n",
      "Current progress of hyper-parameter tuning:  254 7 13 6 0.1574074074074074\n",
      "Current progress of hyper-parameter tuning:  254 7 13 8 0.1574074074074074\n",
      "Current progress of hyper-parameter tuning:  254 7 6 6 0.19444444444444445\n",
      "Current progress of hyper-parameter tuning:  254 7 6 8 0.19444444444444445\n",
      "Current progress of hyper-parameter tuning:  462 39 13 6 0.16666666666666666\n",
      "Current progress of hyper-parameter tuning:  462 39 13 8 0.16666666666666666\n",
      "Current progress of hyper-parameter tuning:  462 39 6 6 0.16666666666666666\n",
      "Current progress of hyper-parameter tuning:  462 39 6 8 0.16666666666666666\n",
      "Current progress of hyper-parameter tuning:  462 7 13 6 0.18518518518518517\n",
      "Current progress of hyper-parameter tuning:  462 7 13 8 0.18518518518518517\n",
      "Current progress of hyper-parameter tuning:  462 7 6 6 0.21296296296296297\n",
      "Current progress of hyper-parameter tuning:  462 7 6 8 0.21296296296296297\n",
      "Current progress of hyper-parameter tuning:  254 39 13 6 0.17592592592592593\n",
      "Current progress of hyper-parameter tuning:  254 39 13 8 0.17592592592592593\n",
      "Current progress of hyper-parameter tuning:  254 39 6 6 0.18518518518518517\n",
      "Current progress of hyper-parameter tuning:  254 39 6 8 0.18518518518518517\n",
      "Current progress of hyper-parameter tuning:  254 7 13 6 0.19444444444444445\n",
      "Current progress of hyper-parameter tuning:  254 7 13 8 0.19444444444444445\n",
      "Current progress of hyper-parameter tuning:  254 7 6 6 0.2037037037037037\n",
      "Current progress of hyper-parameter tuning:  254 7 6 8 0.2037037037037037\n",
      "Current progress of hyper-parameter tuning:  462 39 13 6 0.16666666666666666\n",
      "Current progress of hyper-parameter tuning:  462 39 13 8 0.16666666666666666\n",
      "Current progress of hyper-parameter tuning:  462 39 6 6 0.2037037037037037\n",
      "Current progress of hyper-parameter tuning:  462 39 6 8 0.2037037037037037\n",
      "Current progress of hyper-parameter tuning:  462 7 13 6 0.18518518518518517\n",
      "Current progress of hyper-parameter tuning:  462 7 13 8 0.18518518518518517\n",
      "Current progress of hyper-parameter tuning:  462 7 6 6 0.19444444444444445\n",
      "Current progress of hyper-parameter tuning:  462 7 6 8 0.19444444444444445\n",
      "Current progress of hyper-parameter tuning:  254 39 13 6 0.19444444444444445\n",
      "Current progress of hyper-parameter tuning:  254 39 13 8 0.19444444444444445\n",
      "Current progress of hyper-parameter tuning:  254 39 6 6 0.16666666666666666\n",
      "Current progress of hyper-parameter tuning:  254 39 6 8 0.16666666666666666\n",
      "Current progress of hyper-parameter tuning:  254 7 13 6 0.18518518518518517\n",
      "Current progress of hyper-parameter tuning:  254 7 13 8 0.18518518518518517\n",
      "Current progress of hyper-parameter tuning:  254 7 6 6 0.16666666666666666\n",
      "Current progress of hyper-parameter tuning:  254 7 6 8 0.16666666666666666\n",
      "Current progress of hyper-parameter tuning:  462 39 13 6 0.18518518518518517\n",
      "Current progress of hyper-parameter tuning:  462 39 13 8 0.18518518518518517\n",
      "Current progress of hyper-parameter tuning:  462 39 6 6 0.14814814814814814\n",
      "Current progress of hyper-parameter tuning:  462 39 6 8 0.14814814814814814\n",
      "Current progress of hyper-parameter tuning:  462 7 13 6 0.17592592592592593\n",
      "Current progress of hyper-parameter tuning:  462 7 13 8 0.17592592592592593\n",
      "Current progress of hyper-parameter tuning:  462 7 6 6 0.16666666666666666\n",
      "Current progress of hyper-parameter tuning:  462 7 6 8 0.16666666666666666\n",
      "Current progress of hyper-parameter tuning:  254 39 13 6 0.12037037037037036\n",
      "Current progress of hyper-parameter tuning:  254 39 13 8 0.12037037037037036\n",
      "Current progress of hyper-parameter tuning:  254 39 6 6 0.1574074074074074\n",
      "Current progress of hyper-parameter tuning:  254 39 6 8 0.1574074074074074\n",
      "Current progress of hyper-parameter tuning:  254 7 13 6 0.12962962962962962\n",
      "Current progress of hyper-parameter tuning:  254 7 13 8 0.12962962962962962\n",
      "Current progress of hyper-parameter tuning:  254 7 6 6 0.1111111111111111\n",
      "Current progress of hyper-parameter tuning:  254 7 6 8 0.1111111111111111\n",
      "Current progress of hyper-parameter tuning:  462 39 13 6 0.1388888888888889\n",
      "Current progress of hyper-parameter tuning:  462 39 13 8 0.1388888888888889\n",
      "Current progress of hyper-parameter tuning:  462 39 6 6 0.16666666666666666\n",
      "Current progress of hyper-parameter tuning:  462 39 6 8 0.16666666666666666\n",
      "Current progress of hyper-parameter tuning:  462 7 13 6 0.1388888888888889\n",
      "Current progress of hyper-parameter tuning:  462 7 13 8 0.1388888888888889\n",
      "Current progress of hyper-parameter tuning:  462 7 6 6 0.12037037037037036\n",
      "Current progress of hyper-parameter tuning:  462 7 6 8 0.12037037037037036\n",
      "Current progress of hyper-parameter tuning:  254 39 13 6 0.17592592592592593\n",
      "Current progress of hyper-parameter tuning:  254 39 13 8 0.17592592592592593\n",
      "Current progress of hyper-parameter tuning:  254 39 6 6 0.17592592592592593\n",
      "Current progress of hyper-parameter tuning:  254 39 6 8 0.17592592592592593\n",
      "Current progress of hyper-parameter tuning:  254 7 13 6 0.14814814814814814\n",
      "Current progress of hyper-parameter tuning:  254 7 13 8 0.14814814814814814\n",
      "Current progress of hyper-parameter tuning:  254 7 6 6 0.17592592592592593\n",
      "Current progress of hyper-parameter tuning:  254 7 6 8 0.17592592592592593\n",
      "Current progress of hyper-parameter tuning:  462 39 13 6 0.16666666666666666\n",
      "Current progress of hyper-parameter tuning:  462 39 13 8 0.16666666666666666\n",
      "Current progress of hyper-parameter tuning:  462 39 6 6 0.17592592592592593\n",
      "Current progress of hyper-parameter tuning:  462 39 6 8 0.17592592592592593\n",
      "Current progress of hyper-parameter tuning:  462 7 13 6 0.1574074074074074\n",
      "Current progress of hyper-parameter tuning:  462 7 13 8 0.1574074074074074\n",
      "Current progress of hyper-parameter tuning:  462 7 6 6 0.18518518518518517\n",
      "Current progress of hyper-parameter tuning:  462 7 6 8 0.18518518518518517\n",
      "Current progress of hyper-parameter tuning:  254 39 13 6 0.23148148148148148\n",
      "Current progress of hyper-parameter tuning:  254 39 13 8 0.23148148148148148\n",
      "Current progress of hyper-parameter tuning:  254 39 6 6 0.2222222222222222\n",
      "Current progress of hyper-parameter tuning:  254 39 6 8 0.2222222222222222\n",
      "Current progress of hyper-parameter tuning:  254 7 13 6 0.23148148148148148\n",
      "Current progress of hyper-parameter tuning:  254 7 13 8 0.23148148148148148\n",
      "Current progress of hyper-parameter tuning:  254 7 6 6 0.2037037037037037\n",
      "Current progress of hyper-parameter tuning:  254 7 6 8 0.2037037037037037\n",
      "Current progress of hyper-parameter tuning:  462 39 13 6 0.21296296296296297\n",
      "Current progress of hyper-parameter tuning:  462 39 13 8 0.21296296296296297\n",
      "Current progress of hyper-parameter tuning:  462 39 6 6 0.2222222222222222\n",
      "Current progress of hyper-parameter tuning:  462 39 6 8 0.2222222222222222\n",
      "Current progress of hyper-parameter tuning:  462 7 13 6 0.21296296296296297\n",
      "Current progress of hyper-parameter tuning:  462 7 13 8 0.21296296296296297\n",
      "Current progress of hyper-parameter tuning:  462 7 6 6 0.2222222222222222\n",
      "Current progress of hyper-parameter tuning:  462 7 6 8 0.2222222222222222\n",
      "Current progress of hyper-parameter tuning:  254 39 13 6 0.18691588785046728\n",
      "Current progress of hyper-parameter tuning:  254 39 13 8 0.18691588785046728\n",
      "Current progress of hyper-parameter tuning:  254 39 6 6 0.19626168224299065\n",
      "Current progress of hyper-parameter tuning:  254 39 6 8 0.19626168224299065\n",
      "Current progress of hyper-parameter tuning:  254 7 13 6 0.19626168224299065\n",
      "Current progress of hyper-parameter tuning:  254 7 13 8 0.19626168224299065\n",
      "Current progress of hyper-parameter tuning:  254 7 6 6 0.18691588785046728\n",
      "Current progress of hyper-parameter tuning:  254 7 6 8 0.18691588785046728\n",
      "Current progress of hyper-parameter tuning:  462 39 13 6 0.19626168224299065\n",
      "Current progress of hyper-parameter tuning:  462 39 13 8 0.19626168224299065\n",
      "Current progress of hyper-parameter tuning:  462 39 6 6 0.19626168224299065\n",
      "Current progress of hyper-parameter tuning:  462 39 6 8 0.19626168224299065\n",
      "Current progress of hyper-parameter tuning:  462 7 13 6 0.21495327102803738\n"
     ]
    },
    {
     "name": "stdout",
     "output_type": "stream",
     "text": [
      "Current progress of hyper-parameter tuning:  462 7 13 8 0.21495327102803738\n",
      "Current progress of hyper-parameter tuning:  462 7 6 6 0.205607476635514\n",
      "Current progress of hyper-parameter tuning:  462 7 6 8 0.205607476635514\n",
      "Current progress of hyper-parameter tuning:  254 39 13 6 0.14018691588785046\n",
      "Current progress of hyper-parameter tuning:  254 39 13 8 0.14018691588785046\n",
      "Current progress of hyper-parameter tuning:  254 39 6 6 0.16822429906542055\n",
      "Current progress of hyper-parameter tuning:  254 39 6 8 0.16822429906542055\n",
      "Current progress of hyper-parameter tuning:  254 7 13 6 0.1588785046728972\n",
      "Current progress of hyper-parameter tuning:  254 7 13 8 0.1588785046728972\n",
      "Current progress of hyper-parameter tuning:  254 7 6 6 0.1588785046728972\n",
      "Current progress of hyper-parameter tuning:  254 7 6 8 0.1588785046728972\n",
      "Current progress of hyper-parameter tuning:  462 39 13 6 0.14953271028037382\n",
      "Current progress of hyper-parameter tuning:  462 39 13 8 0.14953271028037382\n",
      "Current progress of hyper-parameter tuning:  462 39 6 6 0.16822429906542055\n",
      "Current progress of hyper-parameter tuning:  462 39 6 8 0.16822429906542055\n",
      "Current progress of hyper-parameter tuning:  462 7 13 6 0.14953271028037382\n",
      "Current progress of hyper-parameter tuning:  462 7 13 8 0.14953271028037382\n",
      "Current progress of hyper-parameter tuning:  462 7 6 6 0.1588785046728972\n",
      "Current progress of hyper-parameter tuning:  462 7 6 8 0.1588785046728972\n",
      "Current progress of hyper-parameter tuning:  254 39 13 6 0.17757009345794392\n",
      "Current progress of hyper-parameter tuning:  254 39 13 8 0.17757009345794392\n",
      "Current progress of hyper-parameter tuning:  254 39 6 6 0.17757009345794392\n",
      "Current progress of hyper-parameter tuning:  254 39 6 8 0.17757009345794392\n",
      "Current progress of hyper-parameter tuning:  254 7 13 6 0.21495327102803738\n",
      "Current progress of hyper-parameter tuning:  254 7 13 8 0.21495327102803738\n",
      "Current progress of hyper-parameter tuning:  254 7 6 6 0.22429906542056074\n",
      "Current progress of hyper-parameter tuning:  254 7 6 8 0.22429906542056074\n",
      "Current progress of hyper-parameter tuning:  462 39 13 6 0.17757009345794392\n",
      "Current progress of hyper-parameter tuning:  462 39 13 8 0.17757009345794392\n",
      "Current progress of hyper-parameter tuning:  462 39 6 6 0.18691588785046728\n",
      "Current progress of hyper-parameter tuning:  462 39 6 8 0.18691588785046728\n",
      "Current progress of hyper-parameter tuning:  462 7 13 6 0.21495327102803738\n",
      "Current progress of hyper-parameter tuning:  462 7 13 8 0.21495327102803738\n",
      "Current progress of hyper-parameter tuning:  462 7 6 6 0.205607476635514\n",
      "Current progress of hyper-parameter tuning:  462 7 6 8 0.205607476635514\n",
      "Current progress of hyper-parameter tuning:  254 39 13 6 0.22429906542056074\n",
      "Current progress of hyper-parameter tuning:  254 39 13 8 0.22429906542056074\n",
      "Current progress of hyper-parameter tuning:  254 39 6 6 0.17757009345794392\n",
      "Current progress of hyper-parameter tuning:  254 39 6 8 0.17757009345794392\n",
      "Current progress of hyper-parameter tuning:  254 7 13 6 0.2523364485981308\n",
      "Current progress of hyper-parameter tuning:  254 7 13 8 0.2523364485981308\n",
      "Current progress of hyper-parameter tuning:  254 7 6 6 0.2523364485981308\n",
      "Current progress of hyper-parameter tuning:  254 7 6 8 0.2523364485981308\n",
      "Current progress of hyper-parameter tuning:  462 39 13 6 0.22429906542056074\n",
      "Current progress of hyper-parameter tuning:  462 39 13 8 0.22429906542056074\n",
      "Current progress of hyper-parameter tuning:  462 39 6 6 0.19626168224299065\n",
      "Current progress of hyper-parameter tuning:  462 39 6 8 0.19626168224299065\n",
      "Current progress of hyper-parameter tuning:  462 7 13 6 0.2336448598130841\n",
      "Current progress of hyper-parameter tuning:  462 7 13 8 0.2336448598130841\n",
      "Current progress of hyper-parameter tuning:  462 7 6 6 0.2336448598130841\n",
      "Current progress of hyper-parameter tuning:  462 7 6 8 0.2336448598130841\n",
      "Best 10 fold accuracy is:  0.2523364485981308\n",
      "Best n-estimators:  254\n",
      "Best max_depth:  7\n",
      "Best min_sample_leaf:  13\n",
      "Best min_sample_split:  6\n",
      "The Test Dataset Accuracy is:  0.2833333333333333\n"
     ]
    }
   ],
   "source": [
    "best_hyperparameter = main_RF(train_data, k=10, nestimators=random.sample(range(200,500), 2), maxdepth = random.sample(range(1,50), 2), \n",
    "                              minsampleleaf = random.sample(range(5,20), 2), minsamplesplit = random.sample(range(5,30), 2))"
   ]
  },
  {
   "cell_type": "markdown",
   "metadata": {},
   "source": [
    "---"
   ]
  },
  {
   "cell_type": "markdown",
   "metadata": {},
   "source": [
    "After using the random forest, I got slightly better result based on the Test Dataset Accuracy. There is one more model that I want to try, which is Deep Neural Network with Softmax activation function for the output layer. As I mentioned in the description of Softmax regression model, the initial Softmax regression was a one-lay neural network which only contains input layer and output layer (activation function is softmax). The result that I want to Deep Neural Network is Deep Neural Network could help me do feature engeering automatically.\n",
    "\n",
    "Suppose, we have a house pricing prediction problem and we will use Deep Neural Network to solve it.\n",
    "\n",
    "<img src=\"Neural Network.png\" alt=\"Drawing\" style=\"width: 300px;\"/>\n",
    "\n",
    "Image is from: https://www.google.com/url?sa=i&rct=j&q=&esrc=s&source=images&cd=&cad=rja&uact=8&ved=2ahUKEwiU45nYovveAhVGxoMKHXGtDGEQjB16BAgBEAQ&url=https%3A%2F%2Fwww.neuraldesigner.com%2F&psig=AOvVaw1W_iIhgju9h3Rz6RPDTFs7&ust=1543638231215045\n",
    "\n",
    "For instance, if X1 is average income level around of the community. X2 is the criminal rate of the community. X3 is the cost of the school around this community and X4 is the number of squares of the house. So by combining them with different weights, they will generate new features for the data. For instance, by giving more weights to X1 and X3, the first neuron could stand for the school quality.\n",
    "\n",
    "As a result, deep neural networks will use the original features to generate new features by combining different variables with different weights."
   ]
  },
  {
   "cell_type": "code",
   "execution_count": 46,
   "metadata": {},
   "outputs": [
    {
     "ename": "SyntaxError",
     "evalue": "unexpected EOF while parsing (<ipython-input-46-797be2cb448c>, line 3)",
     "output_type": "error",
     "traceback": [
      "\u001b[0;36m  File \u001b[0;32m\"<ipython-input-46-797be2cb448c>\"\u001b[0;36m, line \u001b[0;32m3\u001b[0m\n\u001b[0;31m    \u001b[0m\n\u001b[0m    ^\u001b[0m\n\u001b[0;31mSyntaxError\u001b[0m\u001b[0;31m:\u001b[0m unexpected EOF while parsing\n"
     ]
    }
   ],
   "source": [
    "#in the initialization function, I will initialize W, b, and the structure of neural network\n",
    "def initialization():\n",
    "    "
   ]
  },
  {
   "cell_type": "code",
   "execution_count": null,
   "metadata": {},
   "outputs": [],
   "source": []
  }
 ],
 "metadata": {
  "kernelspec": {
   "display_name": "Python 3",
   "language": "python",
   "name": "python3"
  },
  "language_info": {
   "codemirror_mode": {
    "name": "ipython",
    "version": 3
   },
   "file_extension": ".py",
   "mimetype": "text/x-python",
   "name": "python",
   "nbconvert_exporter": "python",
   "pygments_lexer": "ipython3",
   "version": "3.6.5"
  }
 },
 "nbformat": 4,
 "nbformat_minor": 2
}
